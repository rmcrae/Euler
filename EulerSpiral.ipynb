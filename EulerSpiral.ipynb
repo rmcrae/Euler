{
 "cells": [
  {
   "cell_type": "markdown",
   "id": "550538e0",
   "metadata": {},
   "source": [
    "# The Euler Spiral"
   ]
  },
  {
   "cell_type": "code",
   "execution_count": 8,
   "id": "1cc15c20",
   "metadata": {},
   "outputs": [],
   "source": [
    "%matplotlib inline\n",
    "from scipy import *\n",
    "from numpy import *\n",
    "from scipy.integrate import quad\n",
    "import sympy as sym\n",
    "from bqplot import *\n",
    "from pylab import *\n",
    "import matplotlib.patches as patches\n",
    "import bqplot.pyplot as plt\n",
    "import ipywidgets as widgets\n",
    "from IPython.display import display, Latex, HTML, Math\n",
    "from sympy.parsing.sympy_parser import parse_expr\n",
    "from sympy import lambdify"
   ]
  },
  {
   "cell_type": "code",
   "execution_count": 9,
   "id": "cee919ba",
   "metadata": {},
   "outputs": [
    {
     "data": {
      "image/png": "[encoded data removed]",
      "text/plain": [
       "<Figure size 345.6x230.4 with 1 Axes>"
      ]
     },
     "metadata": {},
     "output_type": "display_data"
    }
   ],
   "source": [
    "# attempt to make little, spineless, intro plot\n",
    "\n",
    "# Euler Spiral\n",
    "sarr = linspace(-7, 7, 300)\n",
    "def xfunc(t):\n",
    "    return cos(0.5*t**2)\n",
    "\n",
    "def yfunc(t):\n",
    "    return sin(0.5*t**2)\n",
    "\n",
    "x = array([quad(xfunc, 0, s)[0] for s in sarr])\n",
    "y = array([quad(yfunc, 0, s)[0] for s in sarr])\n",
    "\n",
    "fig = figure(figsize=(4.8, 3.2))\n",
    "out = plot(x,y)\n",
    "ax = gca()\n",
    "ax.axes.xaxis.set_ticks([])\n",
    "ax.axes.yaxis.set_ticks([])\n",
    "for item in ax.spines.values():\n",
    "    item.set_visible(False)"
   ]
  },
  {
   "cell_type": "code",
   "execution_count": 10,
   "id": "f3a142c2",
   "metadata": {},
   "outputs": [],
   "source": [
    "fig_layout = widgets.Layout(height = \"550px\", width = \"550px\")\n",
    "fig_margin_dict = dict(top=30, bottom = 30, left = 20, right = 10)"
   ]
  },
  {
   "cell_type": "markdown",
   "id": "a32ebbe5",
   "metadata": {},
   "source": [
    "## Planar Curves\n",
    "Consider a parametric curve in the plane, with coordinates expressed as functions of arc length $s$ as: $x = g(s), y = h(s)$.\n",
    "\n",
    "The *Fundamental Theorem of Plane Curves* says (in essence) that a plane curve is determined by its curvature, $\\kappa(s)$.   That is, if we are given a starting point and a curvature function, then the entire curve is determined (technically, up to a \"Euclidean motion,\" i.e. a rotation and a translation)."
   ]
  },
  {
   "cell_type": "markdown",
   "id": "3e0ea6c6",
   "metadata": {},
   "source": [
    "### Aside:  Proof of the above claim\n",
    "\n",
    "(Feel free to jump to the end to see the equations actually used in the calculation below).\n",
    "\n",
    "First, describe a curve in terms of intrinsic variables (*i.e.* unaffected by choice of coordinates or orientation): its arc length, $s$,  its curvature, $\\kappa(s)$, and its *tangential angle*, $\\psi(s)$.  Choose $s=0$ to be a location where $\\psi(s) = 0$, and take the direction of the curve as the positive $x$ axis at that point.  In the figure below, the green line is the tangent to the 'arbitrary curve' (blue curve) at point P."
   ]
  },
  {
   "cell_type": "code",
   "execution_count": 11,
   "id": "8d0372c2",
   "metadata": {},
   "outputs": [
    {
     "data": {
      "image/png": "[encoded data removed]",
      "text/plain": [
       "<Figure size 432x288 with 1 Axes>"
      ]
     },
     "metadata": {},
     "output_type": "display_data"
    }
   ],
   "source": [
    "x = linspace(0, sqrt(2), 200)\n",
    "y = x**2 + 1\n",
    "plot(x,y, linewidth = 2.5)\n",
    "plot(x, 2*x, 'g')\n",
    "plot(1, 2, 'ro')\n",
    "item = text(1.07, 1.9, 'P', fontsize=16)\n",
    "psi = text(0.42, 0.37, r'$\\psi$', fontsize=16)\n",
    "style = \"Simple, tail_width=0.5, head_width=4, head_length=8\"\n",
    "kw = dict(arrowstyle=style, color='k')\n",
    "a1 = patches.FancyArrowPatch((0.4,0), (0.3, 0.6), connectionstyle=\"arc3, rad=.3\", **kw)\n",
    "ax = gca()\n",
    "ax.add_patch(a1)\n",
    "ax.axes.xaxis.set_ticks([])\n",
    "ax.spines['top'].set_visible(False)\n",
    "ax.spines['right'].set_visible(False)\n",
    "ax.axes.yaxis.set_ticks([])\n",
    "ylim([0, 3])\n",
    "xlabel('x', fontsize=16)\n",
    "ylabel('y', fontsize=16);\n"
   ]
  },
  {
   "cell_type": "markdown",
   "id": "1a9796b5",
   "metadata": {},
   "source": [
    "Clearly, $\\frac{dy}{dx} =\\tan \\psi$, and we can define the curvature of the curve at $s$ as $\\kappa(s) = \\frac{d\\psi(s)}{ds}$.  Further, since the incremental distance $$ds = \\sqrt{dx^2 + dy^2} = \\sqrt{1 + \\left(\\frac{dy}{dx}\\right)^2}dx$$, we see that $\\frac{ds}{dx} = \\sqrt{1 + \\left(\\frac{dy}{dx}\\right)^2} = \\sqrt{1 + \\tan^2 \\psi} = \\sec \\psi$.  Thus, $\\frac{dx}{ds} = \\cos \\psi$, and since $\\frac{dy}{dx} = \\frac{dy}{ds} \\frac{ds}{dx} = \\tan \\psi$, we see that $\\frac{dy}{ds} = \\sin \\psi$.\n",
    "\n",
    "Let the curve in question have a parameterization in terms of arc length as:\n",
    "$$x = g(s)$$\n",
    "$$y = h(s)$$\n",
    "and write\n",
    "$$\\frac{dx}{ds} = g'(s) \\text{ and } \\frac{dy}{ds} = h'(s)$$\n",
    "Then we have the following **defining equations** for the curve:\n",
    "$$\\kappa(s) = \\frac{d\\psi(s)}{ds},$$\n",
    "$$g'(s) = \\cos \\psi(s),$$\n",
    "$$h'(s) = \\sin \\psi(s)$$"
   ]
  },
  {
   "cell_type": "markdown",
   "id": "49f256f5",
   "metadata": {},
   "source": [
    "#### Plan of attack:\n",
    "Given a $\\kappa(s)$, we first find $\\psi(s)$, then from that determine the parametric functions $g(s)$ and $h(s)$.  Integrating the first defining equation gives:\n",
    "$$\\psi(s) = \\int \\kappa(s) ds = \\int_0^s \\kappa(t)dt + \\psi_0$$\n",
    "Inserting this in to the second and third defining equations, we get\n",
    "$$g'(s) = \\cos  \\left( \\int_0^s \\kappa(t)dt + \\psi_0 \\right) \\text{ and } h'(s) = \\sin  \\left( \\int_0^s \\kappa(t)dt + \\psi_0 \\right)$$\n",
    "resulting in the general solutions (showing constants of integration explicitly):\n",
    "$$g(s) = \\int_0^s \\cos \\left( \\int_0^u \\kappa(t) + \\psi_0 \\right) du + x_0,$$\n",
    "and\n",
    "$$h(s) = \\int_0^s \\sin \\left( \\int_0^u \\kappa(t) + \\psi_0 \\right) du + y_0.$$"
   ]
  },
  {
   "cell_type": "markdown",
   "id": "77b670f0",
   "metadata": {},
   "source": [
    "Now just a little housekeeping with some trigonometric identities to complete the proof.  Apply the identities\n",
    "$$\\cos(\\theta + \\phi) = \\cos \\theta \\cos \\phi - \\sin \\theta \\sin \\phi$$\n",
    "$$\\sin(\\theta + \\phi) = \\sin \\theta \\cos \\phi + \\cos \\theta \\sin \\phi$$\n",
    "to the above general solutions.  Showing the details for $g(s)$ only, we have\n",
    "$$g(s) = \\int_0^s \\cos \\left( \\int_0^u \\kappa(t) + \\psi_0 \\right) du + x_0$$\n",
    "$$= \\int_0^s \\cos \\left( \\int_0^u \\kappa(t) dt \\right) \\cos \\psi_0 du - \\int_0^s \\sin \\left( \\int_0^u \\kappa(t) dt  \\right) \\sin \\psi_0 du+ x_0$$\n",
    "$$ = \\boldsymbol{\\cos \\psi_0 } \\int_0^s \\cos \\left( \\int_0^u \\kappa(t)  dt \\right) du - \\boldsymbol{\\sin \\psi_0} \\int_0^s \\sin \\left( \\int_0^u \\kappa(t)  dt \\right) du + x_0$$\n",
    "Similarly, for $h(s)$:\n",
    "$$ h(s) = \\boldsymbol{\\cos \\psi_0 } \\int_0^s \\sin \\left( \\int_0^u \\kappa(t)  dt \\right) du + \\boldsymbol{\\sin \\psi_0} \\int_0^s \\cos \\left( \\int_0^u \\kappa(t)  dt \\right) du + y_0$$\n",
    "Rewriting in matrix form:\n",
    "$$\\begin{pmatrix}\n",
    "g(s)\\\\h(s)\n",
    "\\end{pmatrix} = \\begin{pmatrix} \\cos \\psi_0 & -\\sin \\psi_0 \\\\ \\sin \\psi_0 & \\cos \\psi_0 \\end{pmatrix}\n",
    "\\begin{pmatrix} \\int_0^s \\cos \\left( \\int_0^u \\kappa(t)  dt \\right) du\\\\ \\int_0^s \\sin \\left( \\int_0^u \\kappa(t)  dt \\right) du \\end{pmatrix} +\n",
    "\\begin{pmatrix} x_0 \\\\ y_0 \\end{pmatrix},$$\n",
    "from which form it is clear that the arbitrary constants of integration can only cause a rotation ($\\psi_0$) or a translation ($x_0$ and $y_0$) of the final result.  The curve is then uniquely determined by the parametric equations\n",
    "$$\\boldsymbol{x} = g(s) = \\int_0^s \\cos \\left( \\int_0^u \\kappa(t)  dt \\right) du,$$\n",
    "$$\\boldsymbol{y} = h(s) = \\int_0^s \\sin \\left( \\int_0^u \\kappa(t)  dt \\right) du,$$\n",
    "up to rotations and translations.  These two equations are used below explicitly to find the curves: the inner integral (over $t$) is evaluated symbolically and then converted to a numerical function; the outer integral is evaluated numerically. "
   ]
  },
  {
   "cell_type": "markdown",
   "id": "14a88f81",
   "metadata": {},
   "source": [
    "## Curve Explorer\n",
    "\n",
    "Use the controls below the plot to explore different aspects of curves as determined by a choice of curvature function.\n",
    "\n",
    "### Rules\n",
    "\n",
    "Enter a curvature function in the designated box as a function of the parameter $t$.  Use functions that have antiderivatives, as this is integrated *symbolically* rather than numerically.  If you get an error message in a pink box, consider reducing the bounds being considered -- the numerical integration can become unstable.\n",
    "\n",
    "### Initial curve\n",
    "\n",
    "$\\kappa = \\cos t - t \\sin t \\Rightarrow  \\int_0^u \\kappa(t)  dt = f(u) = u \\cos u$\n",
    "\n",
    "### Chaise lounge\n",
    "\n",
    "Set $\\kappa = t^2$ (enter \"t**2\").  Works better with smaller range, -6 to 6.\n",
    "\n",
    "\n",
    "### <font color='blue'>Euler Spiral</font>\n",
    "   \n",
    "   Set $\\kappa = t$.  Note:  This makes the curvature change *linearly* with distance along the curve."
   ]
  },
  {
   "cell_type": "code",
   "execution_count": 12,
   "id": "884339dc",
   "metadata": {},
   "outputs": [
    {
     "data": {
      "application/vnd.jupyter.widget-view+json": {
       "model_id": "050df28dc2c24a769504f6dea686d8ec",
       "version_major": 2,
       "version_minor": 0
      },
      "text/plain": [
       "VBox(children=(HTMLMath(value=\"<h2><font color='blue'>$\\\\kappa(t) = - t \\\\sin{\\\\left(t \\\\right)} + \\\\cos{\\\\lef…"
      ]
     },
     "metadata": {},
     "output_type": "display_data"
    }
   ],
   "source": [
    "t = sym.Symbol('t')\n",
    "\n",
    "def set_function(strFunc):\n",
    "    try:\n",
    "        f = parse_expr(strFunc)\n",
    "    except (TokenError, TypeError):\n",
    "        print(\"malformed function\")\n",
    "        return None\n",
    "    return   f\n",
    "\n",
    "# initial conditions\n",
    "low = -12\n",
    "high = 12\n",
    "nPts = 600\n",
    "strFunc = \"cos(t) - t*sin(t)\"\n",
    "\n",
    "# set curvature function:\n",
    "kappa = set_function(strFunc)\n",
    "\n",
    "f = lambdify(t, kappa.integrate(t), 'numpy')\n",
    "\n",
    "s_arr = linspace(-12, 12, 600)\n",
    "\n",
    "def xfunc(t):\n",
    "    return cos(f(t))\n",
    "\n",
    "def yfunc(t):\n",
    "    return sin(f(t))\n",
    "\n",
    "\n",
    "x = array([quad(xfunc, 0, s)[0] for s in s_arr])\n",
    "y = array([quad(yfunc, 0, s)[0] for s in s_arr])\n",
    "\n",
    "\n",
    "# Main figure\n",
    "main_fig = plt.figure(title=\"\", layout = fig_layout, fig_margin = fig_margin_dict)\n",
    "function_curve = plt.plot(x, y)\n",
    "s_point = plt.plot([0], [0], colors = ['red'], marker = 'circle')\n",
    "\n",
    "# title for main figure\n",
    "sym_func = sym.latex(kappa)\n",
    "label_layout = widgets.Layout(display='flex', justify_content='center', width = \"70%\", \n",
    "                              align_items = 'center', border = 'none')\n",
    "label = widgets.Label(r\"$\\kappa(t)) =  {}$\".format(sym.latex(1+x**2)), layout = label_layout)\n",
    "title_format = \"<h2><font color='blue'>$\\kappa(t) = {}$</font></h2>\"\n",
    "title_label = widgets.HTMLMath(title_format.format(sym_func),\n",
    "                              layout = label_layout)\n",
    "\n",
    "# s point control\n",
    "point_label = widgets.Label(\"Arc length s = \")\n",
    "point_slider = widgets.FloatSlider(value = 0.0, min = low, max = high, step = 0.01, \n",
    "                                  readout = True, readout_format = '.2f', continuous_update = True)\n",
    "point_box = widgets.HBox([point_label, point_slider])\n",
    "\n",
    "# function entry\n",
    "entry_layout = widgets.Layout(width = '150px')\n",
    "func_label = widgets.Label(\"Enter curvature function: \")\n",
    "func_entry = widgets.Text(strFunc, continuous_update = False, layout = entry_layout)\n",
    "func_box = widgets.HBox([func_label, func_entry])\n",
    "\n",
    "# domain entry\n",
    "dom_layout = widgets.Layout(width = '75px')\n",
    "dom_label = widgets.Label(\"Enter domain: \")\n",
    "dom_low = widgets.FloatText(value = low, layout = dom_layout)\n",
    "dom_high = widgets.FloatText(value = high, layout = dom_layout)\n",
    "nPts_label = widgets.Label(\"  number of points: \")\n",
    "nPts_entry = widgets.IntText(value = nPts, layout = dom_layout)\n",
    "dom_box = widgets.HBox([dom_label, dom_low, dom_high, nPts_label, nPts_entry])\n",
    "\n",
    "# callback functions\n",
    "def update_plot(change):\n",
    "    global f\n",
    "    strFunc = func_entry.value\n",
    "    kappa = set_function(strFunc)\n",
    "    title_label.value = title_format.format(sym.latex(kappa))\n",
    "    f = lambdify(t, kappa.integrate(t), 'numpy')\n",
    "    \n",
    "    low = dom_low.value\n",
    "    high = dom_high.value\n",
    "    nPts = nPts_entry.value\n",
    "    point_slider.min = low\n",
    "    point_slider.max = high\n",
    "    point_slider.value = 0.0\n",
    "    s_arr = linspace(low, high, nPts)\n",
    "    x = array([quad(lambda t: cos(f(t)), 0, s, limit = 75)[0] for s in s_arr])\n",
    "    y = array([quad(lambda t: sin(f(t)), 0, s, limit = 75)[0] for s in s_arr])\n",
    "    function_curve.x = x\n",
    "    function_curve.y = y\n",
    "    s_point.x = [0] if low < 0 else [quad(lambda t: cos(f(t)), 0, low)[0]]\n",
    "    s_point.y = [0]\n",
    "    \n",
    "    # if domain doesn't include s = 0:\n",
    "    if low * high > 0:\n",
    "        start = low if low > 0 else high\n",
    "        s_point.x = [quad(lambda t: cos(f(t)), 0, start)[0]]\n",
    "        s_point.y = [quad(lambda t: sin(f(t)), 0, start)[0]]\n",
    "    # print(change['owner'], s_point.x, s_point.y)\n",
    "    \n",
    "# move red point around\n",
    "def update_point(change):\n",
    "    s = point_slider.value\n",
    "    x = quad(xfunc, 0, s)[0]\n",
    "    y = quad(yfunc, 0, s)[0]\n",
    "    s_point.x = [x]\n",
    "    s_point.y = [y]\n",
    "\n",
    "# callbacks\n",
    "for widget in [func_entry, nPts_entry, dom_low, dom_high]:\n",
    "    widget.observe(update_plot, names = 'value')\n",
    "    \n",
    "point_slider.observe(update_point, names = 'value')\n",
    "widgets.VBox([title_label, main_fig, point_box, func_box, dom_box])"
   ]
  },
  {
   "cell_type": "markdown",
   "id": "ad63340b",
   "metadata": {},
   "source": [
    "## Brief History\n",
    "\n",
    "According to my source, the first reference to this curve was by Jakob Bernoulli (the mathematical patriarch of that family) in 1694.  He had posed the question as to the shape that a thin beam must have so that when a weight was hung from the end of it, it would be straightened out flat.  He found the answer that the distance along the beam ($s$) times the radius of curvature at that point ($R = 1/\\kappa$) must be equal to a positive constant.  That is, curvature is proportional to arc length -- the Euler Spiral.  Of course, Bernoulli was only interested in the curve up until the point at which it became vertical; it had no meaning for his problem behond that point."
   ]
  },
  {
   "cell_type": "code",
   "execution_count": 13,
   "id": "6ad95e57",
   "metadata": {},
   "outputs": [
    {
     "data": {
      "image/png": "[encoded data removed]",
      "text/plain": [
       "<Figure size 432x288 with 1 Axes>"
      ]
     },
     "metadata": {},
     "output_type": "display_data"
    }
   ],
   "source": [
    "sarr = linspace(0, sqrt(pi), 200)\n",
    "sarr2 = linspace(sqrt(pi), 6, 200)\n",
    "y = x**2 + 1\n",
    "\n",
    "f_spiral = lambda x: x**2/2\n",
    "\n",
    "s_arr = linspace(-12, 12, 600)\n",
    "\n",
    "def xspiral(t):\n",
    "    return cos(f_spiral(t))\n",
    "\n",
    "def yspiral(t):\n",
    "    return sin(f_spiral(t))\n",
    "\n",
    "\n",
    "x = array([quad(xspiral, 0, s)[0] for s in sarr])\n",
    "y = array([quad(yspiral, 0, s)[0] for s in sarr])\n",
    "x2 = array([quad(xspiral, 0, s)[0] for s in sarr2])\n",
    "y2 = array([quad(yspiral, 0, s)[0] for s in sarr2])\n",
    "plot(x,y, linewidth = 2.5)\n",
    "plot(x2,y2, 'g--',linewidth = 1, )\n",
    "title(\"Bernoulli's curve\")\n",
    "#item = text(1.07, 1.9, 'P', fontsize=16)\n",
    "\n",
    "ax = gca()\n",
    "\n",
    "ax.axes.xaxis.set_ticks([])\n",
    "ax.spines['top'].set_visible(False)\n",
    "ax.spines['right'].set_visible(False)\n",
    "ax.axes.yaxis.set_ticks([])\n",
    "ylim([0, 2])\n",
    "xlabel('x', fontsize=16)\n",
    "ylabel('y', fontsize=16);"
   ]
  },
  {
   "cell_type": "markdown",
   "id": "e1ae05c2",
   "metadata": {},
   "source": [
    "Euler himself took up the problem in 1744.  Not only did he derive the above result (which Bernoulli had not), he worked out the parametric equations for the curve (using modern notation):\n",
    "$$x(s) = \\int_0^s \\cos \\frac{s^2}{2a^2} du$$\n",
    "and \n",
    "$$y(s) = \\int_0^s \\sin \\frac{s^2}{2a^2} du$$\n",
    "Euler recognized that these integrals could not be evaluated in closed form, but worked out term-by-term integration of the series expansions in order to evaluate them.  He then posed the question of locating the two limit points of the spiral, namely:\n",
    "$$ x = \\pm \\int_0^{\\infty} \\cos \\frac{u^2}{2a^2} du$$\n",
    "$$ y = \\pm \\int_0^{\\infty} \\sin \\frac{u^2}{2a^2} du$$\n",
    "\n",
    "Euler answered his own question in 1781:\n",
    "\n",
    "$$ x = \\pm \\frac{a \\sqrt{\\pi}}{2} \\text{ and } x = \\pm \\frac{a \\sqrt{\\pi}}{2} $$\n",
    "\n",
    "In 1814, the components of the spiral resurfaced in the work of Augustin Fresnel, who found that the intensity of light in a diffraction pattern (within certain approximations) was:\n",
    "$$I_v = \\left[ \\int_0^v \\cos \\frac{1}{2} \\pi t^2 dt \\right]^2 +\\left[  \\int_0^v \\sin \\frac{1}{2} \\pi t^2 dt \\right ]^2$$\n",
    "\n",
    "These component integrals then became known as *Fresnel Integrals*.  They are also called *Cornu Integrals* after some related work by the French mathematician Alfred Cornu in 1874.\n",
    "\n",
    "## Application:  Train Tracks\n",
    "\n",
    "Yes, train tracks.  What is the best sort of curve to connect to straight segments of train tracks?  Arcs of circles are used in toy train sets, but in the real world, this creates some discomfort.  Imagine travelling at speed $v$ along a straight segment.  As soon as the train hit the circular segment, the centripetal acceleration would jump from 0 to $\\frac{v^2}{r} = \\kappa v^2$.  The resulting unpleasant experience is apparently known as a 'jerk'.  To avoid this, in 1881 a Mr. Holbrook introduced the idea of using a curve whose curvature increased linearly with distance -- a piece of a Euler Spiral.  Upon entering such a curve, passengers would feel a linearly increasing acceleration instead of a sudden jerk."
   ]
  },
  {
   "cell_type": "code",
   "execution_count": 14,
   "id": "eed55b3d",
   "metadata": {},
   "outputs": [
    {
     "data": {
      "text/html": [
       "<style>\n",
       "div.input {\n",
       "    display:none;\n",
       "}\n",
       "</style>\n"
      ],
      "text/plain": [
       "<IPython.core.display.HTML object>"
      ]
     },
     "metadata": {},
     "output_type": "display_data"
    }
   ],
   "source": [
    "%%html\n",
    "<style>\n",
    "div.input {\n",
    "    display:none;\n",
    "}\n",
    "</style>"
   ]
  },
  {
   "cell_type": "markdown",
   "id": "1bbd1546",
   "metadata": {},
   "source": [
    "#### Implementation notes:\n",
    "\n",
    "Of course, all numerical calculations done in all of these notebooks is done with a combination of ```numpy``` and ```scipy```.  These won't be mentioned again, as their use is **always** assumed.\n",
    "\n",
    "```matplotlib``` is the most commonly used plotting package for Python, and is used here for inline plot because it has far more methods for making changes to its appearance: showing / not showing enclosing box, controlling how or whether tick marks are shown, *etc.*\n",
    "\n",
    "```bqplot``` is a plotting package that makes interactive widget-like plots, and is used here to make the interactive plot\n",
    "\n",
    "Originally, I attempted to do both integrals to generate a curve from a curvature function *numerically*, but this turned out to be slow.  So the inner integral (of the curvature function itself) is done symbolically using the ```sympy``` package.   ```sympy``` provides several useful tools:  ```from sympy.parsing.sympy_parser import parse_expr``` parses strings into symbolic expressions understood by ```sympy```.  Then, ```from sympy import lambdify``` converts the symbolic expression into a ```numpy``` numerical function!  Both handy and *much* faster than the numerical-only implementation.\n",
    "\n",
    "Numerical integration is done using ```scipy.integrate.quad```.\n",
    "\n",
    "Non-plotting interactive widgets are provided through ```ipywidgets```."
   ]
  },
  {
   "cell_type": "code",
   "execution_count": null,
   "id": "2d4c7a48",
   "metadata": {},
   "outputs": [],
   "source": []
  }
 ],
 "metadata": {
  "kernelspec": {
   "display_name": "Python 3",
   "language": "python",
   "name": "python3"
  },
  "language_info": {
   "codemirror_mode": {
    "name": "ipython",
    "version": 3
   },
   "file_extension": ".py",
   "mimetype": "text/x-python",
   "name": "python",
   "nbconvert_exporter": "python",
   "pygments_lexer": "ipython3",
   "version": "3.8.8"
  }
 },
 "nbformat": 4,
 "nbformat_minor": 5
}
